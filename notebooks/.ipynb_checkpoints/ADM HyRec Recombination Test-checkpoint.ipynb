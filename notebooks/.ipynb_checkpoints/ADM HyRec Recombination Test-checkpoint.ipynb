{
 "cells": [
  {
   "cell_type": "code",
   "execution_count": 2,
   "metadata": {},
   "outputs": [],
   "source": [
    "# import necessary modules\n",
    "# uncomment to get plots displayed in notebook\n",
    "%matplotlib inline\n",
    "import matplotlib\n",
    "import matplotlib.pyplot as plt\n",
    "import numpy as np\n",
    "from classy import Class\n",
    "from scipy.optimize import fsolve\n",
    "from scipy.interpolate import interp1d\n",
    "import math\n"
   ]
  },
  {
   "cell_type": "code",
   "execution_count": 3,
   "metadata": {},
   "outputs": [],
   "source": [
    "def Xi(Neff):\n",
    "    return ((7/8) * (11/4)**(-4/3) * Neff)**(1/4)\n",
    "\n",
    "def Neff(xi):\n",
    "    return (8/7) * (11/4)**(4/3) * xi**4\n",
    "\n",
    "\n",
    "def Sigma_DAO(mp,me,alpha):\n",
    "    #inputs are mp in GeV, me in MeV. \n",
    "    #need mp in GeV, me in eV\n",
    "    me *= 10**6\n",
    "    return alpha * (2/(alpha**2 * me)) * mp**(-1/6)\n",
    "\n",
    "def compute_class(r,deltaN,mp,me,alpha):\n",
    "    settings = {'output':'tCl,pCl,lCl,mPk',\n",
    "                     'lensing':'yes',\n",
    "                       'omega_b':0.0224,\n",
    "                       'omega_cdm':0.119,\n",
    "                       'h':0.67556,\n",
    "                       'A_s':2.215e-9,\n",
    "                       'n_s':0.965,\n",
    "                       'z_reio':11.357,\n",
    "                        'YHe_twin':0.0,\n",
    "                       'r_all_twin':r,\n",
    "                       'Delta_N_twin':deltaN,\n",
    "                       'm_p_dark':mp,\n",
    "                        'm_e_dark':me,\n",
    "                        'alpha_dark':alpha,\n",
    "                        'recombination':'HyRec'}\n",
    "    M = Class()\n",
    "    M.set(settings)\n",
    "    M.compute()\n",
    "    thermo = M.get_thermodynamics()\n",
    "    return thermo\n",
    "\n",
    "def plot_xe(thermo):\n",
    "    plt.figure(figsize=(5,5),dpi=300)\n",
    "    plt.semilogx(thermo['z'],thermo['x_e_twin'],lw=2)#'0.1, 0.1, 1, 1, 0.01')\n",
    "\n",
    "    plt.gca().set_xticks(ticks=[10**5,5*10**4,10**4,5*10**3,10**3])\n",
    "    plt.grid()\n",
    "\n",
    "    plt.xlim(1*10**3,1*10**5)\n",
    "    plt.ylim(10**-6,1.01)\n",
    "    #plt.semilogy()\n",
    "    plt.gca().invert_xaxis()\n",
    "    #plt.legend()\n",
    "    #plt.text(10**5.9,10**-3.3,'$\\hat{r}$ = %g,$\\\\Delta N_{eff}$ = %g,\\n$m_{p}$\\' = %g GeV, $m_{e}$\\' = %g MeV, $\\\\alpha$\\' = %g'%(r,deltaN,mp,me*1000,alpha),fontsize=10, bbox=dict(facecolor='white',alpha=0.5, edgecolor='gray', boxstyle='round,pad=0.5'))\n",
    "    plt.xlabel('z',fontsize=24)\n",
    "    plt.ylabel('$x_e$',fontsize=24)\n",
    "    plt.title('ADM Ionization Fraction')"
   ]
  },
  {
   "cell_type": "code",
   "execution_count": null,
   "metadata": {},
   "outputs": [],
   "source": []
  },
  {
   "cell_type": "code",
   "execution_count": null,
   "metadata": {},
   "outputs": [],
   "source": [
    "thermo = compute_class(0.1,0.1,100,0.001,0.01)"
   ]
  },
  {
   "cell_type": "code",
   "execution_count": null,
   "metadata": {},
   "outputs": [],
   "source": []
  }
 ],
 "metadata": {
  "kernelspec": {
   "display_name": "class_adm_env",
   "language": "python",
   "name": "class_adm_env"
  },
  "language_info": {
   "codemirror_mode": {
    "name": "ipython",
    "version": 3
   },
   "file_extension": ".py",
   "mimetype": "text/x-python",
   "name": "python",
   "nbconvert_exporter": "python",
   "pygments_lexer": "ipython3",
   "version": "3.6.8"
  }
 },
 "nbformat": 4,
 "nbformat_minor": 4
}
